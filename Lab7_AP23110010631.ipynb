{
  "nbformat": 4,
  "nbformat_minor": 0,
  "metadata": {
    "colab": {
      "provenance": []
    },
    "kernelspec": {
      "name": "python3",
      "display_name": "Python 3"
    },
    "language_info": {
      "name": "python"
    }
  },
  "cells": [
    {
      "cell_type": "code",
      "execution_count": null,
      "metadata": {
        "colab": {
          "base_uri": "https://localhost:8080/"
        },
        "id": "IiIYtRuWI4PG",
        "outputId": "4477b2a8-a80e-4d1b-8435-acbe108f62eb"
      },
      "outputs": [
        {
          "output_type": "stream",
          "name": "stdout",
          "text": [
            "Downloading...\n",
            "From: https://drive.google.com/uc?id=1ZdhRqYv-JizWV6DxO6C4R_k1kxPhmlF2\n",
            "To: /content/multiclass.csv\n",
            "\r  0% 0.00/14.6k [00:00<?, ?B/s]\r100% 14.6k/14.6k [00:00<00:00, 43.4MB/s]\n"
          ]
        }
      ],
      "source": [
        "!gdown 1ZdhRqYv-JizWV6DxO6C4R_k1kxPhmlF2"
      ]
    },
    {
      "cell_type": "markdown",
      "source": [
        "**Step 1:** Import Libraries & Load Data"
      ],
      "metadata": {
        "id": "HZSj75S6OfzL"
      }
    },
    {
      "cell_type": "code",
      "source": [
        "import pandas as pd\n",
        "import numpy as np\n",
        "from collections import Counter\n",
        "from sklearn.model_selection import train_test_split\n",
        "\n",
        "# Load dataset (already uploaded in Colab)\n",
        "df = pd.read_csv(\"multiclass.csv\")\n",
        "\n",
        "print(\"First 5 rows:\")\n",
        "print(df.head())"
      ],
      "metadata": {
        "colab": {
          "base_uri": "https://localhost:8080/"
        },
        "id": "s7VAEdMHLZiO",
        "outputId": "1ccf9c8a-896f-45b9-d64f-418632907048"
      },
      "execution_count": null,
      "outputs": [
        {
          "output_type": "stream",
          "name": "stdout",
          "text": [
            "First 5 rows:\n",
            "   Region  Fresh  Milk  Grocery  Frozen  Detergents_Paper  Delicassen  class\n",
            "0       3  12669  9656     7561     214              2674        1338      2\n",
            "1       3   7057  9810     9568    1762              3293        1776      2\n",
            "2       3   6353  8808     7684    2405              3516        7844      2\n",
            "3       3  13265  1196     4221    6404               507        1788      1\n",
            "4       3  22615  5410     7198    3915              1777        5185      1\n"
          ]
        }
      ]
    },
    {
      "cell_type": "markdown",
      "source": [
        "**Step 2:** Preprocessing (Split Features & Labels)"
      ],
      "metadata": {
        "id": "ere5sLGyOwDd"
      }
    },
    {
      "cell_type": "code",
      "source": [
        "# Separate features and target\n",
        "X = df.drop('class', axis=1).values   # all columns except \"class\"\n",
        "y = df['class'].values                # target column\n",
        "\n",
        "# Train-test split (80% training, 20% testing)\n",
        "X_train, X_test, y_train, y_test = train_test_split(\n",
        "    X, y, test_size=0.2, random_state=42\n",
        ")\n",
        "\n",
        "print(\"Training set size:\", X_train.shape)\n",
        "print(\"Test set size:\", X_test.shape)"
      ],
      "metadata": {
        "colab": {
          "base_uri": "https://localhost:8080/"
        },
        "id": "1F-R5DuVOyO7",
        "outputId": "5bae93b5-9d1f-4645-ce04-dc4f65ebb8b1"
      },
      "execution_count": null,
      "outputs": [
        {
          "output_type": "stream",
          "name": "stdout",
          "text": [
            "Training set size: (352, 7)\n",
            "Test set size: (88, 7)\n"
          ]
        }
      ]
    },
    {
      "cell_type": "markdown",
      "source": [
        "**Step 3:** Define Distance Function"
      ],
      "metadata": {
        "id": "BATZ8rZMPJP3"
      }
    },
    {
      "cell_type": "code",
      "source": [
        "# Euclidean distance between two points\n",
        "def euclidean_distance(x1, x2):\n",
        "    return np.sqrt(np.sum((x1 - x2)**2))"
      ],
      "metadata": {
        "id": "s7IK2WOwPKrX"
      },
      "execution_count": null,
      "outputs": []
    },
    {
      "cell_type": "markdown",
      "source": [
        "**Step 4:** Build KNN Classifier (from Scratch)"
      ],
      "metadata": {
        "id": "5kt_d7qnPhfn"
      }
    },
    {
      "cell_type": "code",
      "source": [
        "class KNN:\n",
        "    def __init__(self, k=3):\n",
        "        self.k = k   # number of neighbors\n",
        "\n",
        "    def fit(self, X, y):\n",
        "        # Just store the training data (lazy learner)\n",
        "        self.X_train = X\n",
        "        self.y_train = y\n",
        "\n",
        "    def predict(self, X):\n",
        "        # Predict for each test point\n",
        "        predictions = [self._predict(x) for x in X]\n",
        "        return np.array(predictions)\n",
        "\n",
        "    def _predict(self, x):\n",
        "        # Step 1: Compute distance from x to all training samples\n",
        "        distances = [euclidean_distance(x, x_train) for x_train in self.X_train]\n",
        "\n",
        "        # Step 2: Sort by distance and get indices of k nearest neighbors\n",
        "        k_indices = np.argsort(distances)[:self.k]\n",
        "\n",
        "        # Step 3: Collect the labels of the k nearest neighbors\n",
        "        k_nearest_labels = [self.y_train[i] for i in k_indices]\n",
        "\n",
        "        # Step 4: Majority vote → most common class\n",
        "        most_common = Counter(k_nearest_labels).most_common(1)\n",
        "        return most_common[0][0]"
      ],
      "metadata": {
        "id": "vWf7xrCVPkO5"
      },
      "execution_count": null,
      "outputs": []
    },
    {
      "cell_type": "markdown",
      "source": [
        "**Step 5:** Train and Test Scratch KNN"
      ],
      "metadata": {
        "id": "EDTSpOeHPul9"
      }
    },
    {
      "cell_type": "code",
      "source": [
        "# Create model\n",
        "knn_scratch = KNN(k=3)\n",
        "\n",
        "# Fit training data\n",
        "knn_scratch.fit(X_train, y_train)\n",
        "\n",
        "# Predict test data\n",
        "predictions = knn_scratch.predict(X_test)\n",
        "\n",
        "# Evaluate accuracy\n",
        "accuracy = np.mean(predictions == y_test)\n",
        "print(\"Scratch KNN Accuracy:\", round(accuracy, 2))"
      ],
      "metadata": {
        "colab": {
          "base_uri": "https://localhost:8080/"
        },
        "id": "d6fi1ECoPw2X",
        "outputId": "8fa10e35-ad09-4061-b887-b05eb62629b4"
      },
      "execution_count": null,
      "outputs": [
        {
          "output_type": "stream",
          "name": "stdout",
          "text": [
            "Scratch KNN Accuracy: 0.92\n"
          ]
        }
      ]
    }
  ]
}